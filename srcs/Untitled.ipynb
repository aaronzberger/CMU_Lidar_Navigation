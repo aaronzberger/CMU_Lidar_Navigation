{
 "cells": [
  {
   "cell_type": "code",
   "execution_count": 19,
   "metadata": {},
   "outputs": [],
   "source": [
    "import math\n",
    "def line_to_point(x, y, a, b, c):\n",
    "    return (abs(a * x + b * y + c)) / (math.sqrt(a * a + b * b))\n",
    "\n",
    "\n",
    "def segment_to_standard(l1):\n",
    "    x1, y1 = l1[0][0], l1[0][1]\n",
    "    x2, y2 = l1[0][2], l1[0][3]\n",
    "    \n",
    "    a = y2 - y1\n",
    "    b = x1 - x2\n",
    "#     c = (x1-x2)*y1 + (y2-y1)*x1\n",
    "#     c = y1*x2 - x1*y2  \n",
    "    c = -((a * x1) + (b * y1))\n",
    "    return a, b, c\n",
    "\n",
    "def distance_to_origin(l1):\n",
    "    a, b, c = segment_to_standard(l1)\n",
    "    return line_to_point(200, 200, a, b, c)\n",
    "\n",
    "def lines_are_close(l1, l2):\n",
    "    a, b, c = segment_to_standard(l1)\n",
    "    line1Dist = line_to_point(200, 200, a, b, c)\n",
    "    \n",
    "    a, b, c, = segment_to_standard(l2)\n",
    "    line2Dist = line_to_point(200, 200, a, b, c)\n",
    "\n",
    "    return abs(line1Dist - line2Dist) < 50\n",
    "\n",
    "\n",
    "def best_line(l1, l2):\n",
    "    # Just pick the longest line\n",
    "    line1Length = math.sqrt(((l1[0][2] - l1[0][0]) ** 2) + ((l1[0][3] - l1[0][1]) ** 2))\n",
    "    line2Length = math.sqrt(((l2[0][2] - l2[0][0]) ** 2) + ((l2[0][3] - l2[0][1]) ** 2))\n",
    "\n",
    "    return line1Length >= line2Length\n"
   ]
  },
  {
   "cell_type": "code",
   "execution_count": 20,
   "metadata": {},
   "outputs": [
    {
     "name": "stdout",
     "output_type": "stream",
     "text": [
      "LIN1: -47.0\n",
      "LIN2: 47.0\n",
      "(-317, 0, 48501)\n",
      "(317, 0, -48501)\n"
     ]
    }
   ],
   "source": [
    "line1 = [[153, 317, 153, 0]]\n",
    "line2 = [[153, 0, 153, 317]]\n",
    "print(\"LIN1: %s\" % distance_to_origin(line1))\n",
    "print(\"LIN2: %s\" % distance_to_origin(line2))\n",
    "print(segment_to_standard(line1))\n",
    "print(segment_to_standard(line2))"
   ]
  },
  {
   "cell_type": "code",
   "execution_count": null,
   "metadata": {},
   "outputs": [],
   "source": []
  },
  {
   "cell_type": "code",
   "execution_count": null,
   "metadata": {},
   "outputs": [],
   "source": []
  }
 ],
 "metadata": {
  "kernelspec": {
   "display_name": "Python 3",
   "language": "python",
   "name": "python3"
  },
  "language_info": {
   "codemirror_mode": {
    "name": "ipython",
    "version": 3
   },
   "file_extension": ".py",
   "mimetype": "text/x-python",
   "name": "python",
   "nbconvert_exporter": "python",
   "pygments_lexer": "ipython3",
   "version": "3.5.2"
  }
 },
 "nbformat": 4,
 "nbformat_minor": 2
}
